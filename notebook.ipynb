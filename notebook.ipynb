{
 "cells": [
  {
   "cell_type": "markdown",
   "id": "20c3b84a-e8b4-4102-b04c-7bba4f8d58cd",
   "metadata": {},
   "source": [
    "## Google Collab Dependencies"
   ]
  },
  {
   "cell_type": "code",
   "execution_count": null,
   "id": "f52afd50-12ec-449d-8ecf-0ca91a045b6d",
   "metadata": {},
   "outputs": [],
   "source": [
    "!curl -O https://raw.githubusercontent.com/dnoliver/fraud-detection-sample/master/utils.py\n",
    "!curl -O https://raw.githubusercontent.com/dnoliver/fraud-detection-sample/master/dataset_generation.py\n",
    "!curl -O https://raw.githubusercontent.com/dnoliver/fraud-detection-sample/master/feature_transformation.py\n",
    "!curl -O https://raw.githubusercontent.com/dnoliver/fraud-detection-sample/master/logistic_regression.py\n",
    "!curl -O https://raw.githubusercontent.com/dnoliver/fraud-detection-sample/master/convolutional_neural_network.py\n",
    "!pip install skorch"
   ]
  },
  {
   "cell_type": "markdown",
   "id": "5679da54-5652-4115-a431-47e51c13d698",
   "metadata": {},
   "source": [
    "## Data Set Generation"
   ]
  },
  {
   "cell_type": "code",
   "execution_count": null,
   "id": "8e0f9bde-cbe0-40d5-a507-e23a836b1bba",
   "metadata": {},
   "outputs": [],
   "source": [
    "from dataset_generation import main as dataset_generation\n",
    "\n",
    "dataset = dataset_generation()"
   ]
  },
  {
   "cell_type": "code",
   "execution_count": null,
   "id": "dcc26484-a12b-48e3-959b-e691e22c9b74",
   "metadata": {},
   "outputs": [],
   "source": [
    "dataset"
   ]
  },
  {
   "cell_type": "markdown",
   "id": "3e6197b5-806f-4412-a9e1-1f153d8552a6",
   "metadata": {},
   "source": [
    "## Feature Transformation"
   ]
  },
  {
   "cell_type": "code",
   "execution_count": null,
   "id": "96c0ea2c-bc6b-4708-91d9-9ad869e4e664",
   "metadata": {},
   "outputs": [],
   "source": [
    "from feature_transformation import main as feature_transformation\n",
    "\n",
    "dataset = feature_transformation()"
   ]
  },
  {
   "cell_type": "code",
   "execution_count": null,
   "id": "bf608b82-0684-4989-9bba-da9542d4bc58",
   "metadata": {},
   "outputs": [],
   "source": [
    "dataset"
   ]
  },
  {
   "cell_type": "markdown",
   "id": "c555af3d-72f9-456e-b95f-8c8d697812b7",
   "metadata": {},
   "source": [
    "## Logistic Regression"
   ]
  },
  {
   "cell_type": "code",
   "execution_count": null,
   "id": "ea0478a4-2e49-41fe-9a10-ec34a3069218",
   "metadata": {},
   "outputs": [],
   "source": [
    "from logistic_regression import main as logistic_regression\n",
    "\n",
    "performance, execution_time, summary = logistic_regression()"
   ]
  },
  {
   "cell_type": "code",
   "execution_count": null,
   "id": "f4df8b48-4cfd-4543-be9c-a9efd09042fd",
   "metadata": {},
   "outputs": [],
   "source": [
    "performance"
   ]
  },
  {
   "cell_type": "code",
   "execution_count": null,
   "id": "8a4e6c2a-54db-4cb8-a9aa-2bfbb3d1cc11",
   "metadata": {},
   "outputs": [],
   "source": [
    "print(f\"Execution Time {execution_time[0]}\")"
   ]
  },
  {
   "cell_type": "code",
   "execution_count": null,
   "id": "a0599051-d0c7-43f6-b6a2-95254910f446",
   "metadata": {},
   "outputs": [],
   "source": [
    "summary"
   ]
  },
  {
   "cell_type": "markdown",
   "id": "7ba8157c-1681-4cc8-b5de-b9e3ac19f31b",
   "metadata": {},
   "source": [
    "## Convolutional Neural Network"
   ]
  },
  {
   "cell_type": "code",
   "execution_count": null,
   "id": "1827af5f-b6d0-474c-99a2-93692504c9d0",
   "metadata": {},
   "outputs": [],
   "source": [
    "from convolutional_neural_network import main as convolutional_neural_network\n",
    "\n",
    "performance, execution_time, summary = convolutional_neural_network()"
   ]
  },
  {
   "cell_type": "code",
   "execution_count": null,
   "id": "39b68dc5-4254-4467-a13c-a377dd2d36e2",
   "metadata": {},
   "outputs": [],
   "source": [
    "performance"
   ]
  },
  {
   "cell_type": "code",
   "execution_count": null,
   "id": "50198137-cc89-4e81-bab5-0b088e344aca",
   "metadata": {},
   "outputs": [],
   "source": [
    "print(f\"Execution Time {execution_time[0]}\")"
   ]
  },
  {
   "cell_type": "code",
   "execution_count": null,
   "id": "c07df9ba-b9f5-4f69-ae44-2ab392fe9c48",
   "metadata": {},
   "outputs": [],
   "source": [
    "summary"
   ]
  }
 ],
 "metadata": {
  "kernelspec": {
   "display_name": "Python 3 (ipykernel)",
   "language": "python",
   "name": "python3"
  },
  "language_info": {
   "codemirror_mode": {
    "name": "ipython",
    "version": 3
   },
   "file_extension": ".py",
   "mimetype": "text/x-python",
   "name": "python",
   "nbconvert_exporter": "python",
   "pygments_lexer": "ipython3",
   "version": "3.10.4"
  }
 },
 "nbformat": 4,
 "nbformat_minor": 5
}
